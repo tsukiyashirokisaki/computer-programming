{
 "cells": [
  {
   "cell_type": "code",
   "execution_count": 1,
   "metadata": {},
   "outputs": [],
   "source": [
    "import numpy as np\n",
    "from numpy import array,newaxis\n",
    "import math\n",
    "from math import sqrt,sin, pi, exp\n",
    "e=math.exp(1)"
   ]
  },
  {
   "cell_type": "code",
   "execution_count": 2,
   "metadata": {},
   "outputs": [],
   "source": [
    "def real(h,t):#真實值\n",
    "    c=[]\n",
    "    a=int(1/h)\n",
    "    for i in range(0,a+1):\n",
    "        c.append(e**(-t*pi*pi)*sin(i*h*pi))\n",
    "    return c\n",
    "def error(h,dt,r,s):#r是real #s是solution\n",
    "    N=int(1/h+1)\n",
    "    a=0\n",
    "    b=0\n",
    "    for i in range(0,N):\n",
    "        a+=((s[i]-r[i])[0])**2\n",
    "        b+=r[i]**2\n",
    "    c=a**0.5\n",
    "    d=b**0.5\n",
    "    return c/d"
   ]
  },
  {
   "cell_type": "code",
   "execution_count": 3,
   "metadata": {},
   "outputs": [
    {
     "name": "stdout",
     "output_type": "stream",
     "text": [
      "0.007334793585650208 0.0018302306261121222 0.00029268050470701844\n"
     ]
    }
   ],
   "source": [
    "#Crank-Nicolson scheme\n",
    "def a(h,dt):#左邊的矩陣 N*N\n",
    "    N=int(1/h)+1\n",
    "    s = (N,N)\n",
    "    a=np.zeros(s)\n",
    "    a[0,0]=1\n",
    "    a[N-1,N-1]=1\n",
    "    for i in range(1,N-1):\n",
    "        a[i,i-1]=-dt/2/h**2\n",
    "        a[i,i+1]=-dt/2/h**2\n",
    "        a[i,i]=dt/h**2+1\n",
    "    return a\n",
    "\n",
    "def s(h): #sin(pi*x)輸入的矩陣 N*1\n",
    "    c=[]\n",
    "    a=1/h\n",
    "    for i in range(0,int(a+1)):\n",
    "        c.append(sin(i*h*pi))\n",
    "    d=array(c)[:,newaxis]\n",
    "    return d\n",
    "def b(h,dt,f): #右邊的矩陣 N*1\n",
    "    N=int(1/h)+1\n",
    "    s = (N,1)\n",
    "    a=np.zeros(s)\n",
    "    c=dt/2/h**2\n",
    "    for i in range(1,N-1):\n",
    "        a[i]=f[i]+c*(f[i-1]-2*f[i]+f[i+1])\n",
    "    return a\n",
    "def sol(h,dt,f):\n",
    "    return np.linalg.solve(a(h,dt),b(h,dt,f))\n",
    "def sol2(a,ff,h,dt):  #a=左邊的矩陣,ff=右邊的矩陣\n",
    "    q=[]\n",
    "    for i in range(int(1/h)):\n",
    "        d=np.linalg.solve(a,ff)\n",
    "        q.append(d)\n",
    "        ff=b(h,dt,d)\n",
    "    return q\n",
    "\n",
    "error01=error(0.1,0.01,real(0.1,0.1),sol2(a(0.1,0.01),b(0.1,0.01,s(0.1)),0.1,0.01)[-1])\n",
    "error02=error(0.05,0.005,real(0.05,0.1),sol2(a(0.05,0.005),b(0.05,0.005,s(0.05)),0.05,0.005)[-1])\n",
    "error03=error(0.02,0.002,real(0.02,0.1),sol2(a(0.02,0.002),b(0.02,0.002,s(0.02)),0.02,0.002)[-1])\n",
    "print(error01,error02,error03)"
   ]
  },
  {
   "cell_type": "code",
   "execution_count": 4,
   "metadata": {},
   "outputs": [
    {
     "name": "stdout",
     "output_type": "stream",
     "text": [
      "0.05452086032857704 0.025840284706385188 0.009982458610560319\n"
     ]
    }
   ],
   "source": [
    "#Simple implicit method\n",
    "def bb(h,dt,f):#助教左邊的矩陣\n",
    "        N=int(1/h)+1\n",
    "        s = (N,1)\n",
    "        a=np.zeros(s)\n",
    "        for i in range(1,N-1):\n",
    "            a[i]=f[i]\n",
    "        return a\n",
    "def aa(h,dt):#助教右邊的矩陣\n",
    "    N=int(1/h)+1\n",
    "    s = (N,N)\n",
    "    a=np.zeros(s)\n",
    "    a[0,0]=1\n",
    "    a[N-1,N-1]=1\n",
    "    for i in range(1,N-1):\n",
    "            a[i,i-1]=-dt/h**2\n",
    "            a[i,i+1]=-dt/h**2\n",
    "            a[i,i]=2*dt/h**2+1\n",
    "    return a\n",
    "def sol22(h,dt,f):\n",
    "    return np.linalg.solve(aa(h,dt),bb(h,dt,f))\n",
    "def sol222(a,ff,h,dt):\n",
    "    q=[]\n",
    "    for i in range(int(1/h)):\n",
    "        d=np.linalg.solve(a,ff)\n",
    "        q.append(d)\n",
    "        ff=bb(h,dt,d)\n",
    "    return q\n",
    "error1=error(0.1,0.01,real(0.1,0.1),sol222(aa(0.1,0.01),bb(0.1,0.01,s(0.1)),0.1,0.01)[-1])\n",
    "error2=error(0.05,0.005,real(0.05,0.1),sol222(aa(0.05,0.005),bb(0.05,0.005,s(0.05)),0.05,0.005)[-1])\n",
    "error3=error(0.02,0.002,real(0.02,0.1),sol222(aa(0.02,0.002),bb(0.02,0.002,s(0.02)),0.02,0.002)[-1])\n",
    "print(error1,error2,error3)\n"
   ]
  },
  {
   "cell_type": "code",
   "execution_count": 12,
   "metadata": {},
   "outputs": [],
   "source": [
    "#做好輸出格式的list\n",
    "def space(h,dt):#空間\n",
    "    c=[]\n",
    "    a=int(1/h)\n",
    "    for j in range(int(0.1/dt)):\n",
    "        for i in range(0,a+1):\n",
    "            c.append(i*h)\n",
    "    return c\n",
    "def time(h,dt):#時間\n",
    "    t=0.1\n",
    "    c=[]\n",
    "    a=int(1/h)\n",
    "    for j in range(1,int(0.1/dt)+1):\n",
    "        for i in range(0,a+1):\n",
    "            c.append(j*dt)\n",
    "    return c\n",
    "def pt(f):#數值\n",
    "    c=[]\n",
    "    for i in range(len(f)):\n",
    "        for j in range(len(f[1])):\n",
    "            c.append(float(f[i][j]))\n",
    "    return c"
   ]
  },
  {
   "cell_type": "code",
   "execution_count": 6,
   "metadata": {},
   "outputs": [],
   "source": [
    "def output(f1,f2,f3):\n",
    "    c=[]\n",
    "    for i in range(len(f1)):\n",
    "        c.append((f1[i],f2[i],f3[i]))\n",
    "    return tuple(c)\n",
    "\n",
    "#Simple implicit method\n",
    "cv11=output(time(0.1,0.01),space(0.1,0.01),pt(sol222(aa(0.1,0.01),bb(0.1,0.01,s(0.1)),0.1,0.01)))\n",
    "cv22=output(time(0.05,0.005),space(0.05,0.005),pt(sol222(aa(0.05,0.005),bb(0.05,0.005,s(0.05)),0.05,0.005)))\n",
    "cv33=output(time(0.020,0.002),space(0.02,0.002),pt(sol222(aa(0.02,0.002),bb(0.02,0.002,s(0.02)),0.02,0.002)))\n",
    "#crank-nicolson method\n",
    "cv011=output(time(0.1,0.01),space(0.1,0.01),pt(sol2(a(0.1,0.01),b(0.1,0.01,s(0.1)),0.1,0.01)))\n",
    "cv022=output(time(0.05,0.005),space(0.05,0.005),pt(sol2(a(0.05,0.005),b(0.05,0.005,s(0.05)),0.05,0.005)))\n",
    "cv033=output(time(0.020,0.002),space(0.02,0.002),pt(sol2(a(0.02,0.002),b(0.02,0.002,s(0.02)),0.02,0.002)))"
   ]
  },
  {
   "cell_type": "code",
   "execution_count": 7,
   "metadata": {},
   "outputs": [],
   "source": [
    "path='原始資料.txt'\n",
    "v=open(path,'w+',encoding='utf-8')\n",
    "v=open(path,'a+',encoding='utf-8')\n",
    "def abl(B,v):#B是tupl3,v是txt\n",
    "    v.write('\\n')\n",
    "    for element in (B):\n",
    "        c=str(element)+','\n",
    "        v.write(c)\n",
    "    v.write('\\n')\n",
    "def ab(C,v):#c是文字\n",
    "    v.write('\\n'+str(C)+'\\n')\n",
    "ab('Crank-Nicolson method',v)    \n",
    "ab('h=0.1,dt=0.01,error at t=0.1 ='+str(error01),v)\n",
    "abl(cv011,v)\n",
    "ab('h=0.05,dt=0.005,error at t=0.1 ='+str(error02),v)\n",
    "abl(cv022,v)\n",
    "ab('h=0.02,dt=0.002,error at t=0.1 ='+str(error03),v)\n",
    "abl(cv033,v)    \n",
    "ab('Simple implicit method',v)    \n",
    "ab('h=0.1,dt=0.01,error at t=0.1 ='+str(error1),v)\n",
    "abl(cv11,v)\n",
    "ab('h=0.05,dt=0.005,error at t=0.1 ='+str(error2),v)\n",
    "abl(cv22,v)\n",
    "ab('h=0.02,dt=0.002,error at t=0.1 ='+str(error3),v)\n",
    "abl(cv33,v)\n",
    "v.close()"
   ]
  },
  {
   "cell_type": "code",
   "execution_count": 9,
   "metadata": {},
   "outputs": [
    {
     "data": {
      "image/png": "[encoded data removed]",
      "text/plain": [
       "<matplotlib.figure.Figure at 0x1a96f8c4208>"
      ]
     },
     "metadata": {},
     "output_type": "display_data"
    }
   ],
   "source": [
    "#畫Crank-Nicolson scheme，在h=0.1,dt=0.01，從t=0.01到t=0.1，x=0到1的圖形\n",
    "import numpy as np\n",
    "import matplotlib.pyplot as plt\n",
    "x = array(time(0.1,0.01))\n",
    "y = array(space(0.1,0.01))\n",
    "z = array(pt(sol222(aa(0.1,0.01),bb(0.1,0.01,s(0.1)),0.1,0.01)))\n",
    "f, ax = plt.subplots(1,2, sharex=True, sharey=True)\n",
    "ax[0].tripcolor(x,y,z)\n",
    "ax[1].tricontourf(x,y,z, 40) # choose 40 contour levels, just to show how good its interpolation is\n",
    "\n",
    "plt.xlabel('time')\n",
    "plt.ylabel('space')\n",
    "plt.show()\n",
    "\n",
    "\n"
   ]
  }
 ],
 "metadata": {
  "kernelspec": {
   "display_name": "Python 3",
   "language": "python",
   "name": "python3"
  },
  "language_info": {
   "codemirror_mode": {
    "name": "ipython",
    "version": 3
   },
   "file_extension": ".py",
   "mimetype": "text/x-python",
   "name": "python",
   "nbconvert_exporter": "python",
   "pygments_lexer": "ipython3",
   "version": "3.6.4"
  }
 },
 "nbformat": 4,
 "nbformat_minor": 2
}
