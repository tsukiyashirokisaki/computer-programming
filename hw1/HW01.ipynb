{
 "cells": [
  {
   "cell_type": "code",
   "execution_count": null,
   "metadata": {},
   "outputs": [],
   "source": [
    "import numpy as np"
   ]
  },
  {
   "cell_type": "markdown",
   "metadata": {},
   "source": [
    "orig_data1 and orig_data2 為正確資料\n",
    "\n",
    "請不要修改其內容，以免影響到作業的進行\n",
    "\n",
    "以下題目，你可以檢查你的執行結果是否與 orig_data1 and orig_data2 相同\n",
    "\n",
    "但請勿直接以 orig_data1 and orig_data2 求值！\n",
    "\n",
    "如以 orig_data1 and orig_data2 求值，該題一律不計分"
   ]
  },
  {
   "cell_type": "code",
   "execution_count": null,
   "metadata": {},
   "outputs": [],
   "source": [
    "orig_data1 = np.load('datalist1.npy')\n",
    "orig_data2 = np.load('datalist2.npy')"
   ]
  },
  {
   "cell_type": "code",
   "execution_count": null,
   "metadata": {},
   "outputs": [],
   "source": [
    "data1 = np.load('data1.npy')\n",
    "data2 = np.load('data2.npy')"
   ]
  },
  {
   "cell_type": "markdown",
   "metadata": {},
   "source": [
    "# Question1\n",
    "\n",
    "data1 及 data2 為量測的實驗數據\n",
    "\n",
    "這兩組實驗數據的數值內容應為正值，如有負值則表示量測當時極性相反\n",
    "\n",
    "請整理此二組資料，如有負值，請透過乘以 -1 的方式調整為正值\n",
    "\n",
    "如已經是正值，不需要改變\n",
    "\n",
    "新的變數，請命名如下: \n",
    "\n",
    "data1_ 表示處理過的 data1 資料\n",
    "\n",
    "data2_ 表示處理過的 data2 資料"
   ]
  },
  {
   "cell_type": "code",
   "execution_count": null,
   "metadata": {},
   "outputs": [],
   "source": []
  },
  {
   "cell_type": "markdown",
   "metadata": {},
   "source": [
    "# Question2\n",
    "\n",
    "請檢查 data1_ 是否與 orig_data1 相同\n",
    "\n",
    "請檢查 data2_ 是否與 orig_data2 相同"
   ]
  },
  {
   "cell_type": "code",
   "execution_count": null,
   "metadata": {},
   "outputs": [],
   "source": []
  },
  {
   "cell_type": "markdown",
   "metadata": {},
   "source": [
    "# Question3\n",
    "\n",
    "請說明 data1_ 是由哪些不重複的數字組成？\n",
    "\n",
    "請說明 data2_ 是由哪些不重複的數字組成？"
   ]
  },
  {
   "cell_type": "code",
   "execution_count": null,
   "metadata": {},
   "outputs": [],
   "source": []
  },
  {
   "cell_type": "markdown",
   "metadata": {},
   "source": [
    "# Question4\n",
    "\n",
    "請說明 data1_ 每個數字的數量\n",
    "\n",
    "請說明 data2_ 每個數字的數量"
   ]
  },
  {
   "cell_type": "code",
   "execution_count": null,
   "metadata": {},
   "outputs": [],
   "source": []
  },
  {
   "cell_type": "markdown",
   "metadata": {},
   "source": [
    "# Question5\n",
    "\n",
    "請問 data1_ 那個數值出現頻率最高\n",
    "\n",
    "請問 data2_ 那個數值出現頻率最低"
   ]
  },
  {
   "cell_type": "code",
   "execution_count": null,
   "metadata": {},
   "outputs": [],
   "source": []
  },
  {
   "cell_type": "markdown",
   "metadata": {},
   "source": [
    "# Question6\n",
    "\n",
    "請分別找出 data1_ 及 data2_ 此二數據最大值與最小值，並求出其全距"
   ]
  },
  {
   "cell_type": "code",
   "execution_count": null,
   "metadata": {},
   "outputs": [],
   "source": []
  },
  {
   "cell_type": "markdown",
   "metadata": {},
   "source": [
    "# Question7\n",
    "\n",
    "請透過標準差，找出 data1_ 及 data2_ 哪一組數據離散程度最高？"
   ]
  },
  {
   "cell_type": "code",
   "execution_count": null,
   "metadata": {},
   "outputs": [],
   "source": []
  },
  {
   "cell_type": "markdown",
   "metadata": {},
   "source": [
    "數值積分的梯型法，又稱做一次多項式近似解，其解法\n",
    "\n",
    "Ex:\n",
    "\n",
    "$\\int^b_af(x)dx $\n",
    "\n",
    "將區間 [a,b] 作 n 等分，得 (n+1) 個端點\n",
    "\n",
    "$a = x_{0},x_{1},...,x_{n-1},x_{n} = b$\n",
    "\n",
    "子區間長度為 $\\Delta{x} = \\frac{b-a}{n}$\n",
    "\n",
    "第一面積 = $[\\frac{f(x_{0}+f(x_{1})}{2}]\\cdot\\frac{b-a}{n}$\n",
    "\n",
    "第二面積 = $[\\frac{f(x_{1}+f(x_{2})}{2}]\\cdot\\frac{b-a}{n}$\n",
    "\n",
    "第 $n$ 面積 = $[\\frac{f(x_{n-1}+f(x_{n})}{2}]\\cdot\\frac{b-a}{n}$\n",
    "\n",
    "因此可推得\n",
    "\n",
    "$\\int^b_af(x)dx \\approx \\frac{b-a}{2n}[f(x_{0}) + 2\\cdot f(x_{1}) + 2\\cdot f(x_{2}) + ... + 2\\cdot f(x_{n-1}) + \\cdot f(x_{n})]$"
   ]
  },
  {
   "cell_type": "markdown",
   "metadata": {},
   "source": [
    "# Question8\n",
    "\n",
    "請試著解以下兩組積分之數值解\n",
    "\n",
    "$\\int^1_0e^{-x}dx$\n",
    "\n",
    "$\\int^1_0\\sin(x)e^{-x}dx$\n",
    "\n",
    "假設 n = 4\n",
    "\n",
    "及\n",
    "\n",
    "假設 n = 8"
   ]
  },
  {
   "cell_type": "code",
   "execution_count": null,
   "metadata": {},
   "outputs": [],
   "source": []
  },
  {
   "cell_type": "markdown",
   "metadata": {},
   "source": [
    "# Question9\n",
    "\n",
    "以下分別為利用 sympy 解得符號推導，再帶入值，求得以下兩組真值\n",
    "\n",
    "請問 n 值多少可使相對誤差(Relative Error) 低於 $10^{-6}$\n",
    "\n",
    "$[Relative Error] = \\frac{真值 - 估值}{真值}$"
   ]
  },
  {
   "cell_type": "code",
   "execution_count": 1,
   "metadata": {},
   "outputs": [
    {
     "name": "stdout",
     "output_type": "stream",
     "text": [
      "-exp(-1) + 1\n",
      "真值:  0.6321205588285577\n",
      "\n",
      "-exp(-1)*sin(1)/2 - exp(-1)*cos(1)/2 + 1/2\n",
      "真值:  0.24583700700023742\n"
     ]
    }
   ],
   "source": [
    "import numpy as np\n",
    "from sympy import *\n",
    "x = symbols('x')\n",
    "print(integrate(exp(-1*x),(x,0,1)))\n",
    "print('真值: ',-1*np.exp(-1) + 1)\n",
    "print()\n",
    "print(integrate(sin(x)*exp(-x),(x,0,1)))\n",
    "print('真值: ',-1*np.exp(-1)*np.sin(1)/2 - np.exp(-1)*np.cos(1)/2 + 1/2)"
   ]
  },
  {
   "cell_type": "code",
   "execution_count": null,
   "metadata": {},
   "outputs": [],
   "source": []
  }
 ],
 "metadata": {
  "kernelspec": {
   "display_name": "Python 3",
   "language": "python",
   "name": "python3"
  },
  "language_info": {
   "codemirror_mode": {
    "name": "ipython",
    "version": 3
   },
   "file_extension": ".py",
   "mimetype": "text/x-python",
   "name": "python",
   "nbconvert_exporter": "python",
   "pygments_lexer": "ipython3",
   "version": "3.6.3"
  },
  "varInspector": {
   "cols": {
    "lenName": 16,
    "lenType": 16,
    "lenVar": 40
   },
   "kernels_config": {
    "python": {
     "delete_cmd_postfix": "",
     "delete_cmd_prefix": "del ",
     "library": "var_list.py",
     "varRefreshCmd": "print(var_dic_list())"
    },
    "r": {
     "delete_cmd_postfix": ") ",
     "delete_cmd_prefix": "rm(",
     "library": "var_list.r",
     "varRefreshCmd": "cat(var_dic_list()) "
    }
   },
   "types_to_exclude": [
    "module",
    "function",
    "builtin_function_or_method",
    "instance",
    "_Feature"
   ],
   "window_display": false
  }
 },
 "nbformat": 4,
 "nbformat_minor": 2
}
