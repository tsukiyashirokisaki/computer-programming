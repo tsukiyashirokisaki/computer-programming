{
 "cells": [
  {
   "cell_type": "code",
   "execution_count": 3,
   "metadata": {},
   "outputs": [],
   "source": [
    "import numpy as np"
   ]
  },
  {
   "cell_type": "markdown",
   "metadata": {},
   "source": [
    "orig_data1 and orig_data2 為正確資料\n",
    "\n",
    "請不要修改其內容，以免影響到作業的進行\n",
    "\n",
    "以下題目，你可以檢查你的執行結果是否與 orig_data1 and orig_data2 相同\n",
    "\n",
    "但請勿直接以 orig_data1 and orig_data2 求值！\n",
    "\n",
    "如以 orig_data1 and orig_data2 求值，該題一律不計分"
   ]
  },
  {
   "cell_type": "code",
   "execution_count": 4,
   "metadata": {},
   "outputs": [],
   "source": [
    "orig_data1 = np.load('datalist1.npy')\n",
    "orig_data2 = np.load('datalist2.npy')"
   ]
  },
  {
   "cell_type": "code",
   "execution_count": 5,
   "metadata": {},
   "outputs": [],
   "source": [
    "data1 = np.load('data1.npy')\n",
    "data2 = np.load('data2.npy')\n"
   ]
  },
  {
   "cell_type": "markdown",
   "metadata": {},
   "source": [
    "# Question1\n",
    "\n",
    "data1 及 data2 為量測的實驗數據\n",
    "\n",
    "這兩組實驗數據的數值內容應為正值，如有負值則表示量測當時極性相反\n",
    "\n",
    "請整理此二組資料，如有負值，請透過乘以 -1 的方式調整為正值\n",
    "\n",
    "如已經是正值，不需要改變\n",
    "\n",
    "新的變數，請命名如下: \n",
    "\n",
    "data1_ 表示處理過的 data1 資料\n",
    "\n",
    "data2_ 表示處理過的 data2 資料"
   ]
  },
  {
   "cell_type": "code",
   "execution_count": 6,
   "metadata": {},
   "outputs": [],
   "source": [
    "#建一個空的list\n",
    "listdata1=[]\n",
    "#將原本array裡面的資料逐一提出，取絕對值後加入list\n",
    "for data in data1:\n",
    "    listdata1.append(abs(data))\n",
    "#最後再變回array的格式\n",
    "data1_=np.array(listdata1)    \n",
    "\n",
    "#建一個空的list\n",
    "listdata2=[]\n",
    "#將原本array裡面的資料逐一提出，取絕對值後加入list\n",
    "for data in data2:\n",
    "    listdata2.append(abs(data))\n",
    "#最後再變回array的格式\n",
    "data2_=np.array(listdata2)    \n",
    "\n",
    "\n"
   ]
  },
  {
   "cell_type": "markdown",
   "metadata": {},
   "source": [
    "# Question2\n",
    "\n",
    "請檢查 data1_ 是否與 orig_data1 相同\n",
    "\n",
    "請檢查 data2_ 是否與 orig_data2 相同"
   ]
  },
  {
   "cell_type": "code",
   "execution_count": 7,
   "metadata": {},
   "outputs": [
    {
     "name": "stdout",
     "output_type": "stream",
     "text": [
      "data1_ is same as orig_data1\n",
      "data2_ is same as orig_data2\n"
     ]
    }
   ],
   "source": [
    "#用 if 和else的函式來判斷array內的物件是否相同，已決定輸出的文字為何者。\n",
    "#用 all 這個函式來判斷array 內的物件是否「完全」相同。\n",
    "if all(  data1_ ==  orig_data1):\n",
    "    print('data1_ is same as orig_data1')\n",
    "else: \n",
    "    print('data1_ is different from orig_data1')\n",
    "\n",
    "if all(  data2_ ==  orig_data2):\n",
    "    print('data2_ is same as orig_data2')\n",
    "else: \n",
    "    print('data2_ is different from orig_data2')\n",
    "\n"
   ]
  },
  {
   "cell_type": "markdown",
   "metadata": {},
   "source": [
    "# Question3\n",
    "\n",
    "請說明 data1_ 是由哪些不重複的數字組成？\n",
    "\n",
    "請說明 data2_ 是由哪些不重複的數字組成？"
   ]
  },
  {
   "cell_type": "code",
   "execution_count": 8,
   "metadata": {},
   "outputs": [
    {
     "name": "stdout",
     "output_type": "stream",
     "text": [
      "data1_ is composed of\n",
      " {0, 1, 2, 3, 4, 5, 6, 7, 8, 9, 10, 11, 12, 13, 14, 15} .\n",
      "data2_ is composed of\n",
      " {0, 1, 2, 3, 4, 5, 6, 7, 8, 9, 10, 11, 12, 13, 14, 15, 16, 17, 18, 19, 20, 21, 22} .\n"
     ]
    }
   ],
   "source": [
    "#因為 set 的元素為不重複物件，所以若把array轉成set，我們即可得到不重複的數字們。 \n",
    "print('data1_ is composed of\\n',set(data1_),'.'  )\n",
    "print('data2_ is composed of\\n',set(data2_),'.'  )"
   ]
  },
  {
   "cell_type": "markdown",
   "metadata": {},
   "source": [
    "# Question4\n",
    "\n",
    "請說明 data1_ 每個數字的數量\n",
    "\n",
    "請說明 data2_ 每個數字的數量"
   ]
  },
  {
   "cell_type": "code",
   "execution_count": 9,
   "metadata": {},
   "outputs": [
    {
     "name": "stdout",
     "output_type": "stream",
     "text": [
      "There is/are 35 number(s) of 0 in data1_.\n",
      "There is/are 142 number(s) of 1 in data1_.\n",
      "There is/are 288 number(s) of 2 in data1_.\n",
      "There is/are 579 number(s) of 3 in data1_.\n",
      "There is/are 660 number(s) of 4 in data1_.\n",
      "There is/are 745 number(s) of 5 in data1_.\n",
      "There is/are 617 number(s) of 6 in data1_.\n",
      "There is/are 407 number(s) of 7 in data1_.\n",
      "There is/are 250 number(s) of 8 in data1_.\n",
      "There is/are 146 number(s) of 9 in data1_.\n",
      "There is/are 72 number(s) of 10 in data1_.\n",
      "There is/are 35 number(s) of 11 in data1_.\n",
      "There is/are 16 number(s) of 12 in data1_.\n",
      "There is/are 4 number(s) of 13 in data1_.\n",
      "There is/are 3 number(s) of 14 in data1_.\n",
      "There is/are 1 number(s) of 15 in data1_.\n",
      "\n",
      "There is/are 1 number(s) of 0 in data2_.\n",
      "There is/are 3 number(s) of 1 in data2_.\n",
      "There is/are 23 number(s) of 2 in data2_.\n",
      "There is/are 61 number(s) of 3 in data2_.\n",
      "There is/are 132 number(s) of 4 in data2_.\n",
      "There is/are 247 number(s) of 5 in data2_.\n",
      "There is/are 384 number(s) of 6 in data2_.\n",
      "There is/are 464 number(s) of 7 in data2_.\n",
      "There is/are 538 number(s) of 8 in data2_.\n",
      "There is/are 521 number(s) of 9 in data2_.\n",
      "There is/are 447 number(s) of 10 in data2_.\n",
      "There is/are 378 number(s) of 11 in data2_.\n",
      "There is/are 290 number(s) of 12 in data2_.\n",
      "There is/are 226 number(s) of 13 in data2_.\n",
      "There is/are 131 number(s) of 14 in data2_.\n",
      "There is/are 75 number(s) of 15 in data2_.\n",
      "There is/are 45 number(s) of 16 in data2_.\n",
      "There is/are 17 number(s) of 17 in data2_.\n",
      "There is/are 9 number(s) of 18 in data2_.\n",
      "There is/are 3 number(s) of 19 in data2_.\n",
      "There is/are 2 number(s) of 20 in data2_.\n",
      "There is/are 2 number(s) of 21 in data2_.\n",
      "There is/are 1 number(s) of 22 in data2_.\n"
     ]
    }
   ],
   "source": [
    "#為了要計算一個array裡面數字的數量，首先要從討論要計算哪幾個數字開始\n",
    "#我選擇使用for來進行不同數字在數量上的計算，而上一題已知道用set可以表示出一個array由哪幾種不同的數字所組成，\n",
    "#但是，set並不支持編號數字取出的功能(type error:'set' object does not support indexing)，\n",
    "#所以我又再把set轉換成list，如下面的:list(set(data1_))，到此已處理完要計算哪幾種數字的問題\n",
    "unrepeated_numbers_in_data1_=list(set(data1_))\n",
    "for i in unrepeated_numbers_in_data1_:\n",
    "#至於要如何計算array內數字的數量，我選擇使用count這個函式，\n",
    "#因為count這個函式只支持list格式，所以我先把array轉換成為list，如下面的:list(data1_)。\n",
    "    print('There is/are' , list(data1_).count(unrepeated_numbers_in_data1_[i]),\n",
    "          'number(s) of',unrepeated_numbers_in_data1_[i],'in data1_.')\n",
    "print('')\n",
    "unrepeated_numbers_in_data2_=list(set(data2_))\n",
    "for i in unrepeated_numbers_in_data2_:\n",
    "    print('There is/are' , list(data2_).count(unrepeated_numbers_in_data2_[i]),\n",
    "          'number(s) of',unrepeated_numbers_in_data2_[i],'in data2_.')    "
   ]
  },
  {
   "cell_type": "markdown",
   "metadata": {},
   "source": [
    "# Question5\n",
    "\n",
    "請問 data1_ 那個數值出現頻率最高\n",
    "\n",
    "請問 data2_ 那個數值出現頻率最低"
   ]
  },
  {
   "cell_type": "code",
   "execution_count": 8,
   "metadata": {},
   "outputs": [
    {
     "name": "stdout",
     "output_type": "stream",
     "text": [
      "The highest frequency number in data1_ is  5 .\n",
      "The highest frequency number in data2_ is  8 .\n"
     ]
    }
   ],
   "source": [
    "#要找出哪個數值的頻率最高， collections 這個模組的 Counter、most common 功能剛好符合\n",
    "\n",
    "from collections import Counter\n",
    "\n",
    "#用Counter對一個 list進行運算， 可以得到各個不重複元素的數量\n",
    "\n",
    "count_data1_ =Counter(data1_)\n",
    "#most_common(前幾名)這個函式，把它用在被Counter運算後的list，可以得到[(最多的物件名稱,數量),(第2名多的物件名稱,數量),......]\n",
    "#我使用.most_common(1)，所以會得到[(最多的物件名稱,數量)]\n",
    "#最後的答案只要把最多的物件的名稱取出，表示出來即可(它的位置在[0][0])\n",
    "\n",
    "print(\"The highest frequency number in data1_ is \",count_data1_.most_common(1)[0][0],'.')\n",
    "\n",
    "count_data2_ =Counter(data2_)\n",
    "print(\"The highest frequency number in data2_ is \",count_data2_.most_common(1)[0][0],'.')"
   ]
  },
  {
   "cell_type": "markdown",
   "metadata": {},
   "source": [
    "# Question6\n",
    "\n",
    "請分別找出 data1_ 及 data2_ 此二數據最大值與最小值，並求出其全距"
   ]
  },
  {
   "cell_type": "code",
   "execution_count": 9,
   "metadata": {},
   "outputs": [
    {
     "name": "stdout",
     "output_type": "stream",
     "text": [
      "In data1 , maximum= 15 , minimum= -14 , range= 29\n",
      "In data2 , maximum= 22 , minimum= -19 , range= 41\n"
     ]
    }
   ],
   "source": [
    "#最大值函數為 max()，最小值函數為min()，全距為最大值-最小值\n",
    "print('In data1 , maximum=',max(data1),', minimum=',min(data1),', range=',max(data1)-min(data1))\n",
    "print('In data2 , maximum=',max(data2),', minimum=',min(data2),', range=',max(data2)-min(data2))\n",
    "\n",
    "\n"
   ]
  },
  {
   "cell_type": "markdown",
   "metadata": {},
   "source": [
    "# Question7\n",
    "\n",
    "請透過標準差，找出 data1_ 及 data2_ 哪一組數據離散程度最高？"
   ]
  },
  {
   "cell_type": "code",
   "execution_count": 10,
   "metadata": {},
   "outputs": [
    {
     "name": "stdout",
     "output_type": "stream",
     "text": [
      "In data1, standard deviation is 4.471325132161605\n",
      "In data2, standard deviation is 7.7127909629070075\n",
      "data2 has larger values of the dispersion\n"
     ]
    }
   ],
   "source": [
    "#計算標準差的函式為np.std(array)，計算完後，用if來比大小即可得出何者的標準差較大，離散程度較大。\n",
    "print('In data1, standard deviation is',np.std(data1))\n",
    "print('In data2, standard deviation is',np.std(data2))\n",
    "if np.std(data1) > np.std(data2):\n",
    "    print('data1 has larger values of the dispersion' )\n",
    "else:\n",
    "    print('data2 has larger values of the dispersion')"
   ]
  },
  {
   "cell_type": "markdown",
   "metadata": {},
   "source": [
    "# 數值積分的梯型法，又稱做一次多項式近似解，其解法\n",
    "\n",
    "Ex:\n",
    "\n",
    "$\\int^b_af(x)dx $\n",
    "\n",
    "將區間 [a,b] 作 n 等分，得 (n+1) 個端點\n",
    "\n",
    "$a = x_{0},x_{1},...,x_{n-1},x_{n} = b$\n",
    "\n",
    "子區間長度為 $\\Delta{x} = \\frac{b-a}{n}$\n",
    "\n",
    "第一面積 = $[\\frac{f(x_{0}+f(x_{1})}{2}]\\cdot\\frac{b-a}{n}$\n",
    "\n",
    "第二面積 = $[\\frac{f(x_{1}+f(x_{2})}{2}]\\cdot\\frac{b-a}{n}$\n",
    "\n",
    "第 $n$ 面積 = $[\\frac{f(x_{n-1}+f(x_{n})}{2}]\\cdot\\frac{b-a}{n}$\n",
    "\n",
    "因此可推得\n",
    "\n",
    "$\\int^b_af(x)dx \\approx \\frac{b-a}{2n}[f(x_{0}) + 2\\cdot f(x_{1}) + 2\\cdot f(x_{2}) + ... + 2\\cdot f(x_{n-1}) + \\cdot f(x_{n})]$"
   ]
  },
  {
   "cell_type": "markdown",
   "metadata": {},
   "source": [
    "# Question8\n",
    "\n",
    "請試著解以下兩組積分之數值解\n",
    "\n",
    "$\\int^1_0e^{-x}dx$\n",
    "\n",
    "$\\int^1_0\\sin(x)e^{-x}dx$\n",
    "\n",
    "假設 n = 4\n",
    "\n",
    "及\n",
    "\n",
    "假設 n = 8"
   ]
  },
  {
   "cell_type": "code",
   "execution_count": 11,
   "metadata": {},
   "outputs": [
    {
     "name": "stdout",
     "output_type": "stream",
     "text": [
      "第一組解為\n",
      "0.6354094290276935\n",
      "第二組解為\n",
      "0.24439099494974256\n"
     ]
    },
    {
     "data": {
      "text/plain": [
       "0.24439099494974256"
      ]
     },
     "execution_count": 11,
     "metadata": {},
     "output_type": "execute_result"
    }
   ],
   "source": [
    "#引進模組\n",
    "import numpy as np\n",
    "import sympy\n",
    "# 指定x為符號\n",
    "x = sympy.Symbol('x')\n",
    "e=np.exp(1)\n",
    "#定義函數Tn為:用梯形法、從0到1求值、n為梯形個數的參數，f為代入函數的參數，toPrint為是否把結果print出來的參數\n",
    "def Tn(n,f,toPrint):\n",
    "    # 以n建立各個取點的list，num=n+1的原因為有五個點    \n",
    "    lista=list(np.linspace(0,1,num=n+1))\n",
    "    #設定初始值a=0，之後進行運算用\n",
    "    a=0\n",
    "    #先算中間的值，先去掉f(x_0)即f(x_n)的計算\n",
    "    for i in range(1,len(lista)-1):\n",
    "        a+=2*f(lista[i])/2/n\n",
    "    #接著進行左右端點的計算，把值加入a中\n",
    "    a+=f(0)/2/n+f(1)/2/n\n",
    "    #用 if 去設定是否將計算後的結果print出來的選擇\n",
    "    if toPrint:\n",
    "        print(a)\n",
    "    # return 的目的是把 nontype 變成 float\n",
    "    return a\n",
    "#定義Tn8為要把結果print出來的函式\n",
    "def Tn8(n,f):\n",
    "    return Tn(n,f,True)\n",
    "#定義函數f1為e^(-x)\n",
    "def f1(x):\n",
    "        return e**(-x)\n",
    "#定義函數f2為sin(x)*e^(-x)\n",
    "def f2(x):\n",
    "    return np.sin(x)*e**(-x)\n",
    "print('第一組解為') \n",
    "Tn8(4,f1)    \n",
    "print('第二組解為')\n",
    "Tn8(8,f2)\n",
    "    "
   ]
  },
  {
   "cell_type": "markdown",
   "metadata": {},
   "source": [
    "# Question9\n",
    "\n",
    "以下分別為利用 sympy 解得符號推導，再帶入值，求得以下兩組真值\n",
    "\n",
    "請問 n 值多少可使相對誤差(Relative Error) 低於 $10^{-6}$\n",
    "\n",
    "$[Relative Error] = \\frac{真值 - 估值}{真值}$"
   ]
  },
  {
   "cell_type": "code",
   "execution_count": 12,
   "metadata": {},
   "outputs": [
    {
     "name": "stdout",
     "output_type": "stream",
     "text": [
      "-exp(-1) + 1\n",
      "真值:  0.6321205588285577\n",
      "\n",
      "-exp(-1)*sin(1)/2 - exp(-1)*cos(1)/2 + 1/2\n",
      "真值:  0.24583700700023742\n"
     ]
    }
   ],
   "source": [
    "import numpy as np\n",
    "from sympy import *\n",
    "x = symbols('x')\n",
    "print(integrate(exp(-1*x),(x,0,1)))\n",
    "print('真值: ',-1*np.exp(-1) + 1)\n",
    "print()\n",
    "print(integrate(sin(x)*exp(-x),(x,0,1)))\n",
    "print('真值: ',-1*np.exp(-1)*np.sin(1)/2 - np.exp(-1)*np.cos(1)/2 + 1/2)"
   ]
  },
  {
   "cell_type": "code",
   "execution_count": 27,
   "metadata": {},
   "outputs": [
    {
     "name": "stdout",
     "output_type": "stream",
     "text": [
      "第一組最小的n為 289\n",
      "第二組最小的n為 614\n"
     ]
    }
   ],
   "source": [
    "#定義函式Tn9，將print(a)這個功能拿掉\n",
    "def Tn9(n,f):\n",
    "    return Tn(n,f,False)\n",
    "\n",
    "#假設欲求的n值在1000以內，所以寫個for迴圈，再用 if 去尋找相對誤差小於1*10^(-6)的n值，再找到後中斷操作\n",
    "for i in range(1,1000):\n",
    "    if abs(1-Tn9(i,f1)/(-1*np.exp(-1) + 1))< 0.000001:\n",
    "        print('第一組最小的n為',i)\n",
    "        break\n",
    "\n",
    "#假設欲求的n值在1000以內，所以寫個for迴圈，再用 if 去尋找相對誤差小於1*10^(-6)的n值，再找到後中斷操作\n",
    "for i in range(1,1000):\n",
    "    if abs(1-Tn9(i,f2)/(-1*np.exp(-1)*np.sin(1)/2 - np.exp(-1)*np.cos(1)/2 + 1/2))< 0.000001:\n",
    "        print('第二組最小的n為',i)\n",
    "        break\n",
    "\n"
   ]
  },
  {
   "cell_type": "code",
   "execution_count": null,
   "metadata": {},
   "outputs": [],
   "source": [
    "\n"
   ]
  }
 ],
 "metadata": {
  "kernelspec": {
   "display_name": "Python 3",
   "language": "python",
   "name": "python3"
  },
  "language_info": {
   "codemirror_mode": {
    "name": "ipython",
    "version": 3
   },
   "file_extension": ".py",
   "mimetype": "text/x-python",
   "name": "python",
   "nbconvert_exporter": "python",
   "pygments_lexer": "ipython3",
   "version": "3.6.4"
  },
  "varInspector": {
   "cols": {
    "lenName": 16,
    "lenType": 16,
    "lenVar": 40
   },
   "kernels_config": {
    "python": {
     "delete_cmd_postfix": "",
     "delete_cmd_prefix": "del ",
     "library": "var_list.py",
     "varRefreshCmd": "print(var_dic_list())"
    },
    "r": {
     "delete_cmd_postfix": ") ",
     "delete_cmd_prefix": "rm(",
     "library": "var_list.r",
     "varRefreshCmd": "cat(var_dic_list()) "
    }
   },
   "types_to_exclude": [
    "module",
    "function",
    "builtin_function_or_method",
    "instance",
    "_Feature"
   ],
   "window_display": false
  }
 },
 "nbformat": 4,
 "nbformat_minor": 2
}
